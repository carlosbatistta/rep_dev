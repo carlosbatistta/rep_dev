{
 "cells": [
  {
   "cell_type": "code",
   "execution_count": null,
   "id": "029d75ab",
   "metadata": {
    "vscode": {
     "languageId": "plaintext"
    }
   },
   "outputs": [],
   "source": [
    "import pandas as pd\n",
    "\n",
    "df = pd.DataFrame({\n",
    "    'cliente': ['Ana', 'Bruno', 'Ana', 'Carlos'],\n",
    "    'valor': [100, 150, 200, 50]\n",
    "})\n"
   ]
  },
  {
   "cell_type": "code",
   "execution_count": null,
   "id": "359664d9",
   "metadata": {
    "vscode": {
     "languageId": "plaintext"
    }
   },
   "outputs": [],
   "source": [
    "# CSV\n",
    "df = pd.read_csv('dados.csv')"
   ]
  },
  {
   "cell_type": "code",
   "execution_count": null,
   "id": "3614936b",
   "metadata": {
    "vscode": {
     "languageId": "plaintext"
    }
   },
   "outputs": [],
   "source": [
    "df.head()         # primeiras 5 linhas\n",
    "df.tail()         # últimas 5 linhas\n",
    "df.info()         # estrutura geral\n",
    "df.describe()     # estatísticas descritivas"
   ]
  },
  {
   "cell_type": "code",
   "execution_count": null,
   "id": "bc504cbe",
   "metadata": {
    "vscode": {
     "languageId": "plaintext"
    }
   },
   "outputs": [],
   "source": [
    "## Agrupamento de dados\n",
    "df.groupby('cliente')['valor'].sum().sort_values(ascending=False)\n",
    "df.groupby('departamento')['salario'].mean() # media de salario por departamento\n",
    "\n"
   ]
  },
  {
   "cell_type": "code",
   "execution_count": null,
   "id": "2686f95c",
   "metadata": {
    "vscode": {
     "languageId": "plaintext"
    }
   },
   "outputs": [],
   "source": [
    "## Função MAP: map é usado para aplicar uma função em cada elemento de uma lista\n",
    "df['valor_com_taxa'] = df['valor'].map(lambda x: x * 1.1)\n",
    "##  função anônima (lambda) recebe um parametro x e retorna a multiplicação de x por 1.1\n"
   ]
  },
  {
   "cell_type": "code",
   "execution_count": null,
   "id": "08082a96",
   "metadata": {
    "vscode": {
     "languageId": "plaintext"
    }
   },
   "outputs": [],
   "source": [
    "df.drop(columns=['coluna1'], inplace=True) #remove colunas\n",
    "df.dropna(inplace=True)  # remove linhas com NA"
   ]
  },
  {
   "cell_type": "code",
   "execution_count": null,
   "id": "6e98fef1",
   "metadata": {
    "vscode": {
     "languageId": "plaintext"
    }
   },
   "outputs": [],
   "source": [
    "df['coluna'] = df['coluna'].fillna(0) # remove nullos"
   ]
  },
  {
   "cell_type": "code",
   "execution_count": null,
   "id": "270e2d3e",
   "metadata": {
    "vscode": {
     "languageId": "plaintext"
    }
   },
   "outputs": [],
   "source": [
    "df.drop_duplicates(inplace=True) # remove linhas duplicadas"
   ]
  },
  {
   "cell_type": "code",
   "execution_count": null,
   "id": "4cf1621d",
   "metadata": {
    "vscode": {
     "languageId": "plaintext"
    }
   },
   "outputs": [],
   "source": [
    "# substituir valores dentro da coluna\n",
    "df['coluna'] = df['coluna'].replace({'velho': 'novo'})"
   ]
  },
  {
   "cell_type": "code",
   "execution_count": null,
   "id": "60dfb10e",
   "metadata": {
    "vscode": {
     "languageId": "plaintext"
    }
   },
   "outputs": [],
   "source": [
    "# agrupamentos com soma ou média\n",
    "# Soma por cliente\n",
    "df.groupby('cliente')['valor'].sum()\n",
    "\n",
    "# Média por categoria\n",
    "df.groupby('categoria')['vendas'].mean()"
   ]
  },
  {
   "cell_type": "code",
   "execution_count": null,
   "id": "52fd477d",
   "metadata": {
    "vscode": {
     "languageId": "plaintext"
    }
   },
   "outputs": [],
   "source": [
    "df.sort_values(by='valor', ascending=False) # ordenação"
   ]
  },
  {
   "cell_type": "code",
   "execution_count": null,
   "id": "9786c067",
   "metadata": {
    "vscode": {
     "languageId": "plaintext"
    }
   },
   "outputs": [],
   "source": [
    "# merge\n",
    "df_final = pd.merge(df1, df2, on='id', how='inner')  # tipos: inner, left, right, outer"
   ]
  },
  {
   "cell_type": "code",
   "execution_count": null,
   "id": "e1f92140",
   "metadata": {
    "vscode": {
     "languageId": "plaintext"
    }
   },
   "outputs": [],
   "source": [
    "# normalização entre 0 e 1\n",
    "df['salario'] = (df['salario'] - df['salario'].min()) / (df['salario'].max() - df['salario'].min())\n"
   ]
  }
 ],
 "metadata": {
  "language_info": {
   "name": "python"
  }
 },
 "nbformat": 4,
 "nbformat_minor": 5
}
